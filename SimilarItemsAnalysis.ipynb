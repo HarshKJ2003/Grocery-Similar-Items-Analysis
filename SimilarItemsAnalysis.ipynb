{
 "cells": [
  {
   "cell_type": "markdown",
   "metadata": {
    "id": "iIDXUkMElkDd"
   },
   "source": [
    "## Apyori"
   ]
  },
  {
   "cell_type": "code",
   "execution_count": 33,
   "metadata": {},
   "outputs": [
    {
     "name": "stdout",
     "output_type": "stream",
     "text": [
      "Requirement already satisfied: apyori in c:\\users\\harsh\\appdata\\local\\programs\\python\\python312\\lib\\site-packages (1.1.2)\n"
     ]
    },
    {
     "name": "stderr",
     "output_type": "stream",
     "text": [
      "WARNING: Ignoring invalid distribution ~otebook (C:\\Users\\HARSH\\AppData\\Local\\Programs\\Python\\Python312\\Lib\\site-packages)\n",
      "WARNING: Ignoring invalid distribution ~otebook (C:\\Users\\HARSH\\AppData\\Local\\Programs\\Python\\Python312\\Lib\\site-packages)\n",
      "WARNING: Ignoring invalid distribution ~otebook (C:\\Users\\HARSH\\AppData\\Local\\Programs\\Python\\Python312\\Lib\\site-packages)\n"
     ]
    }
   ],
   "source": [
    "!pip install apyori"
   ]
  },
  {
   "cell_type": "markdown",
   "metadata": {
    "id": "Hj40LjUilpix"
   },
   "source": [
    "## Importing the libraries"
   ]
  },
  {
   "cell_type": "code",
   "execution_count": 34,
   "metadata": {},
   "outputs": [],
   "source": [
    "import numpy as np\n",
    "import matplotlib.pyplot as plt\n",
    "import pandas as pd\n",
    "import csv"
   ]
  },
  {
   "cell_type": "markdown",
   "metadata": {
    "id": "zApSnwUkl9eD"
   },
   "source": [
    "## Importing Dataset"
   ]
  },
  {
   "cell_type": "code",
   "execution_count": 52,
   "metadata": {
    "scrolled": true
   },
   "outputs": [
    {
     "data": {
      "text/html": [
       "<div>\n",
       "<style scoped>\n",
       "    .dataframe tbody tr th:only-of-type {\n",
       "        vertical-align: middle;\n",
       "    }\n",
       "\n",
       "    .dataframe tbody tr th {\n",
       "        vertical-align: top;\n",
       "    }\n",
       "\n",
       "    .dataframe thead th {\n",
       "        text-align: right;\n",
       "    }\n",
       "</style>\n",
       "<table border=\"1\" class=\"dataframe\">\n",
       "  <thead>\n",
       "    <tr style=\"text-align: right;\">\n",
       "      <th></th>\n",
       "      <th>Unnamed: 0</th>\n",
       "      <th>Apple</th>\n",
       "      <th>Bread</th>\n",
       "      <th>Butter</th>\n",
       "      <th>Cheese</th>\n",
       "      <th>Corn</th>\n",
       "      <th>Dill</th>\n",
       "      <th>Eggs</th>\n",
       "      <th>Ice cream</th>\n",
       "      <th>Kidney Beans</th>\n",
       "      <th>Milk</th>\n",
       "      <th>Nutmeg</th>\n",
       "      <th>Onion</th>\n",
       "      <th>Sugar</th>\n",
       "      <th>Unicorn</th>\n",
       "      <th>Yogurt</th>\n",
       "      <th>chocolate</th>\n",
       "    </tr>\n",
       "  </thead>\n",
       "  <tbody>\n",
       "    <tr>\n",
       "      <th>0</th>\n",
       "      <td>0</td>\n",
       "      <td>False</td>\n",
       "      <td>True</td>\n",
       "      <td>False</td>\n",
       "      <td>False</td>\n",
       "      <td>True</td>\n",
       "      <td>True</td>\n",
       "      <td>False</td>\n",
       "      <td>True</td>\n",
       "      <td>False</td>\n",
       "      <td>False</td>\n",
       "      <td>False</td>\n",
       "      <td>False</td>\n",
       "      <td>True</td>\n",
       "      <td>False</td>\n",
       "      <td>True</td>\n",
       "      <td>True</td>\n",
       "    </tr>\n",
       "    <tr>\n",
       "      <th>1</th>\n",
       "      <td>1</td>\n",
       "      <td>False</td>\n",
       "      <td>False</td>\n",
       "      <td>False</td>\n",
       "      <td>False</td>\n",
       "      <td>False</td>\n",
       "      <td>False</td>\n",
       "      <td>False</td>\n",
       "      <td>False</td>\n",
       "      <td>False</td>\n",
       "      <td>True</td>\n",
       "      <td>False</td>\n",
       "      <td>False</td>\n",
       "      <td>False</td>\n",
       "      <td>False</td>\n",
       "      <td>False</td>\n",
       "      <td>False</td>\n",
       "    </tr>\n",
       "    <tr>\n",
       "      <th>2</th>\n",
       "      <td>2</td>\n",
       "      <td>True</td>\n",
       "      <td>False</td>\n",
       "      <td>True</td>\n",
       "      <td>False</td>\n",
       "      <td>False</td>\n",
       "      <td>True</td>\n",
       "      <td>False</td>\n",
       "      <td>True</td>\n",
       "      <td>False</td>\n",
       "      <td>True</td>\n",
       "      <td>False</td>\n",
       "      <td>False</td>\n",
       "      <td>False</td>\n",
       "      <td>False</td>\n",
       "      <td>True</td>\n",
       "      <td>True</td>\n",
       "    </tr>\n",
       "    <tr>\n",
       "      <th>3</th>\n",
       "      <td>3</td>\n",
       "      <td>False</td>\n",
       "      <td>False</td>\n",
       "      <td>True</td>\n",
       "      <td>True</td>\n",
       "      <td>False</td>\n",
       "      <td>True</td>\n",
       "      <td>False</td>\n",
       "      <td>False</td>\n",
       "      <td>False</td>\n",
       "      <td>True</td>\n",
       "      <td>True</td>\n",
       "      <td>True</td>\n",
       "      <td>False</td>\n",
       "      <td>False</td>\n",
       "      <td>False</td>\n",
       "      <td>False</td>\n",
       "    </tr>\n",
       "    <tr>\n",
       "      <th>4</th>\n",
       "      <td>4</td>\n",
       "      <td>True</td>\n",
       "      <td>True</td>\n",
       "      <td>False</td>\n",
       "      <td>False</td>\n",
       "      <td>False</td>\n",
       "      <td>False</td>\n",
       "      <td>False</td>\n",
       "      <td>False</td>\n",
       "      <td>False</td>\n",
       "      <td>False</td>\n",
       "      <td>False</td>\n",
       "      <td>False</td>\n",
       "      <td>False</td>\n",
       "      <td>False</td>\n",
       "      <td>False</td>\n",
       "      <td>False</td>\n",
       "    </tr>\n",
       "    <tr>\n",
       "      <th>...</th>\n",
       "      <td>...</td>\n",
       "      <td>...</td>\n",
       "      <td>...</td>\n",
       "      <td>...</td>\n",
       "      <td>...</td>\n",
       "      <td>...</td>\n",
       "      <td>...</td>\n",
       "      <td>...</td>\n",
       "      <td>...</td>\n",
       "      <td>...</td>\n",
       "      <td>...</td>\n",
       "      <td>...</td>\n",
       "      <td>...</td>\n",
       "      <td>...</td>\n",
       "      <td>...</td>\n",
       "      <td>...</td>\n",
       "      <td>...</td>\n",
       "    </tr>\n",
       "    <tr>\n",
       "      <th>994</th>\n",
       "      <td>994</td>\n",
       "      <td>False</td>\n",
       "      <td>True</td>\n",
       "      <td>False</td>\n",
       "      <td>False</td>\n",
       "      <td>False</td>\n",
       "      <td>False</td>\n",
       "      <td>True</td>\n",
       "      <td>False</td>\n",
       "      <td>False</td>\n",
       "      <td>False</td>\n",
       "      <td>False</td>\n",
       "      <td>False</td>\n",
       "      <td>False</td>\n",
       "      <td>True</td>\n",
       "      <td>False</td>\n",
       "      <td>True</td>\n",
       "    </tr>\n",
       "    <tr>\n",
       "      <th>995</th>\n",
       "      <td>995</td>\n",
       "      <td>True</td>\n",
       "      <td>False</td>\n",
       "      <td>False</td>\n",
       "      <td>False</td>\n",
       "      <td>True</td>\n",
       "      <td>False</td>\n",
       "      <td>False</td>\n",
       "      <td>False</td>\n",
       "      <td>True</td>\n",
       "      <td>True</td>\n",
       "      <td>True</td>\n",
       "      <td>False</td>\n",
       "      <td>False</td>\n",
       "      <td>False</td>\n",
       "      <td>True</td>\n",
       "      <td>False</td>\n",
       "    </tr>\n",
       "    <tr>\n",
       "      <th>996</th>\n",
       "      <td>996</td>\n",
       "      <td>True</td>\n",
       "      <td>False</td>\n",
       "      <td>False</td>\n",
       "      <td>False</td>\n",
       "      <td>True</td>\n",
       "      <td>True</td>\n",
       "      <td>False</td>\n",
       "      <td>False</td>\n",
       "      <td>False</td>\n",
       "      <td>False</td>\n",
       "      <td>False</td>\n",
       "      <td>False</td>\n",
       "      <td>True</td>\n",
       "      <td>False</td>\n",
       "      <td>False</td>\n",
       "      <td>True</td>\n",
       "    </tr>\n",
       "    <tr>\n",
       "      <th>997</th>\n",
       "      <td>997</td>\n",
       "      <td>False</td>\n",
       "      <td>False</td>\n",
       "      <td>True</td>\n",
       "      <td>True</td>\n",
       "      <td>True</td>\n",
       "      <td>False</td>\n",
       "      <td>True</td>\n",
       "      <td>True</td>\n",
       "      <td>True</td>\n",
       "      <td>False</td>\n",
       "      <td>True</td>\n",
       "      <td>False</td>\n",
       "      <td>True</td>\n",
       "      <td>False</td>\n",
       "      <td>True</td>\n",
       "      <td>True</td>\n",
       "    </tr>\n",
       "    <tr>\n",
       "      <th>998</th>\n",
       "      <td>998</td>\n",
       "      <td>False</td>\n",
       "      <td>False</td>\n",
       "      <td>False</td>\n",
       "      <td>False</td>\n",
       "      <td>False</td>\n",
       "      <td>False</td>\n",
       "      <td>False</td>\n",
       "      <td>False</td>\n",
       "      <td>False</td>\n",
       "      <td>True</td>\n",
       "      <td>False</td>\n",
       "      <td>False</td>\n",
       "      <td>False</td>\n",
       "      <td>False</td>\n",
       "      <td>False</td>\n",
       "      <td>True</td>\n",
       "    </tr>\n",
       "  </tbody>\n",
       "</table>\n",
       "<p>999 rows × 17 columns</p>\n",
       "</div>"
      ],
      "text/plain": [
       "     Unnamed: 0  Apple  Bread  Butter  Cheese   Corn   Dill   Eggs  Ice cream  \\\n",
       "0             0  False   True   False   False   True   True  False       True   \n",
       "1             1  False  False   False   False  False  False  False      False   \n",
       "2             2   True  False    True   False  False   True  False       True   \n",
       "3             3  False  False    True    True  False   True  False      False   \n",
       "4             4   True   True   False   False  False  False  False      False   \n",
       "..          ...    ...    ...     ...     ...    ...    ...    ...        ...   \n",
       "994         994  False   True   False   False  False  False   True      False   \n",
       "995         995   True  False   False   False   True  False  False      False   \n",
       "996         996   True  False   False   False   True   True  False      False   \n",
       "997         997  False  False    True    True   True  False   True       True   \n",
       "998         998  False  False   False   False  False  False  False      False   \n",
       "\n",
       "     Kidney Beans   Milk  Nutmeg  Onion  Sugar  Unicorn  Yogurt  chocolate  \n",
       "0           False  False   False  False   True    False    True       True  \n",
       "1           False   True   False  False  False    False   False      False  \n",
       "2           False   True   False  False  False    False    True       True  \n",
       "3           False   True    True   True  False    False   False      False  \n",
       "4           False  False   False  False  False    False   False      False  \n",
       "..            ...    ...     ...    ...    ...      ...     ...        ...  \n",
       "994         False  False   False  False  False     True   False       True  \n",
       "995          True   True    True  False  False    False    True      False  \n",
       "996         False  False   False  False   True    False   False       True  \n",
       "997          True  False    True  False   True    False    True       True  \n",
       "998         False   True   False  False  False    False   False       True  \n",
       "\n",
       "[999 rows x 17 columns]"
      ]
     },
     "execution_count": 52,
     "metadata": {},
     "output_type": "execute_result"
    }
   ],
   "source": [
    "data_set = pd.read_csv('basket_analysis.csv')\n",
    "data_set"
   ]
  },
  {
   "cell_type": "markdown",
   "metadata": {},
   "source": [
    "## Converting to usable form"
   ]
  },
  {
   "cell_type": "code",
   "execution_count": 69,
   "metadata": {},
   "outputs": [
    {
     "data": {
      "text/plain": [
       "[['Bread', 'Corn', 'Dill', 'Ice cream', 'Sugar', 'Yogurt', 'chocolate'],\n",
       " ['Milk'],\n",
       " ['Apple', 'Butter', 'Dill', 'Ice cream', 'Milk', 'Yogurt', 'chocolate'],\n",
       " ['Butter', 'Cheese', 'Dill', 'Milk', 'Nutmeg', 'Onion'],\n",
       " ['Apple', 'Bread'],\n",
       " ['Apple',\n",
       "  'Bread',\n",
       "  'Butter',\n",
       "  'Cheese',\n",
       "  'Dill',\n",
       "  'Ice cream',\n",
       "  'Nutmeg',\n",
       "  'Unicorn',\n",
       "  'Yogurt',\n",
       "  'chocolate'],\n",
       " ['Butter',\n",
       "  'Eggs',\n",
       "  'Ice cream',\n",
       "  'Kidney Beans',\n",
       "  'Milk',\n",
       "  'Nutmeg',\n",
       "  'Onion',\n",
       "  'Yogurt'],\n",
       " ['Apple', 'Cheese', 'Eggs', 'Nutmeg', 'Sugar', 'Yogurt'],\n",
       " ['Apple',\n",
       "  'Corn',\n",
       "  'Dill',\n",
       "  'Eggs',\n",
       "  'Ice cream',\n",
       "  'Milk',\n",
       "  'Nutmeg',\n",
       "  'Onion',\n",
       "  'Sugar',\n",
       "  'Unicorn',\n",
       "  'Yogurt',\n",
       "  'chocolate'],\n",
       " ['Apple',\n",
       "  'Dill',\n",
       "  'Eggs',\n",
       "  'Ice cream',\n",
       "  'Milk',\n",
       "  'Onion',\n",
       "  'Sugar',\n",
       "  'Unicorn',\n",
       "  'chocolate']]"
      ]
     },
     "execution_count": 69,
     "metadata": {},
     "output_type": "execute_result"
    }
   ],
   "source": [
    "data_set = data_set.drop(columns=['Unnamed: 0'])\n",
    "transactions = []\n",
    "for _, row in data_set.iterrows():\n",
    "    transactions.append(data_set.columns[row == True].tolist())\n",
    "transactions[:10]"
   ]
  },
  {
   "cell_type": "markdown",
   "metadata": {},
   "source": [
    "## Calculating the Support, Confidence and Lift"
   ]
  },
  {
   "cell_type": "code",
   "execution_count": 77,
   "metadata": {},
   "outputs": [],
   "source": [
    "from apyori import apriori\n",
    "basket_intelligence = apriori(transactions = transactions, min_suppoort = 0.002, min_confidence = 0.02, min_lift = 1.35)"
   ]
  },
  {
   "cell_type": "markdown",
   "metadata": {},
   "source": [
    "## Raw Results"
   ]
  },
  {
   "cell_type": "code",
   "execution_count": 78,
   "metadata": {},
   "outputs": [
    {
     "data": {
      "text/plain": [
       "[RelationRecord(items=frozenset({'Cheese', 'Dill', 'Onion'}), support=0.1021021021021021, ordered_statistics=[OrderedStatistic(items_base=frozenset({'Dill'}), items_add=frozenset({'Cheese', 'Onion'}), confidence=0.2562814070351759, lift=1.38391959798995), OrderedStatistic(items_base=frozenset({'Onion'}), items_add=frozenset({'Cheese', 'Dill'}), confidence=0.2531017369727047, lift=1.4285233629137402), OrderedStatistic(items_base=frozenset({'Cheese', 'Dill'}), items_add=frozenset({'Onion'}), confidence=0.576271186440678, lift=1.4285233629137402), OrderedStatistic(items_base=frozenset({'Cheese', 'Onion'}), items_add=frozenset({'Dill'}), confidence=0.5513513513513514, lift=1.3839195979899497)]),\n",
       " RelationRecord(items=frozenset({'Cheese', 'Ice cream', 'Kidney Beans'}), support=0.1041041041041041, ordered_statistics=[OrderedStatistic(items_base=frozenset({'Kidney Beans'}), items_add=frozenset({'Cheese', 'Ice cream'}), confidence=0.2549019607843137, lift=1.3617489776659326), OrderedStatistic(items_base=frozenset({'Cheese', 'Ice cream'}), items_add=frozenset({'Kidney Beans'}), confidence=0.5561497326203209, lift=1.3617489776659326)]),\n",
       " RelationRecord(items=frozenset({'chocolate', 'Dill', 'Milk'}), support=0.11411411411411411, ordered_statistics=[OrderedStatistic(items_base=frozenset({'Dill'}), items_add=frozenset({'Milk', 'chocolate'}), confidence=0.28643216080402006, lift=1.3561408940436779), OrderedStatistic(items_base=frozenset({'Milk'}), items_add=frozenset({'Dill', 'chocolate'}), confidence=0.28148148148148144, lift=1.4130653266331656), OrderedStatistic(items_base=frozenset({'chocolate'}), items_add=frozenset({'Dill', 'Milk'}), confidence=0.27078384798099764, lift=1.4237529691211404), OrderedStatistic(items_base=frozenset({'Dill', 'Milk'}), items_add=frozenset({'chocolate'}), confidence=0.6, lift=1.4237529691211401), OrderedStatistic(items_base=frozenset({'Dill', 'chocolate'}), items_add=frozenset({'Milk'}), confidence=0.5728643216080401, lift=1.4130653266331656), OrderedStatistic(items_base=frozenset({'Milk', 'chocolate'}), items_add=frozenset({'Dill'}), confidence=0.5402843601895734, lift=1.3561408940436779)]),\n",
       " RelationRecord(items=frozenset({'Dill', 'Unicorn', 'chocolate'}), support=0.1011011011011011, ordered_statistics=[OrderedStatistic(items_base=frozenset({'Dill'}), items_add=frozenset({'Unicorn', 'chocolate'}), confidence=0.2537688442211055, lift=1.3629842762198088), OrderedStatistic(items_base=frozenset({'chocolate'}), items_add=frozenset({'Dill', 'Unicorn'}), confidence=0.23990498812351543, lift=1.4265778758059042), OrderedStatistic(items_base=frozenset({'Dill', 'Unicorn'}), items_add=frozenset({'chocolate'}), confidence=0.6011904761904762, lift=1.4265778758059042), OrderedStatistic(items_base=frozenset({'Unicorn', 'chocolate'}), items_add=frozenset({'Dill'}), confidence=0.543010752688172, lift=1.3629842762198086)])]"
      ]
     },
     "execution_count": 78,
     "metadata": {},
     "output_type": "execute_result"
    }
   ],
   "source": [
    "results = list(basket_intelligence)\n",
    "results"
   ]
  },
  {
   "cell_type": "markdown",
   "metadata": {},
   "source": [
    "# Visualizing"
   ]
  },
  {
   "cell_type": "markdown",
   "metadata": {},
   "source": [
    "# Converting to Dataframe"
   ]
  },
  {
   "cell_type": "code",
   "execution_count": 88,
   "metadata": {},
   "outputs": [],
   "source": [
    "data = []\n",
    "for record in results:\n",
    "    items = list(record.items)  # Convert frozenset to a list\n",
    "    support = record.support\n",
    "    for ordered_stat in record.ordered_statistics:\n",
    "        items_base = list(ordered_stat.items_base)  \n",
    "        items_add = list(ordered_stat.items_add)  \n",
    "        confidence = ordered_stat.confidence\n",
    "        lift = ordered_stat.lift\n",
    "        data.append({\n",
    "            'Base Items': items_base,\n",
    "            'Added Items': items_add,\n",
    "            'Support': support,\n",
    "            'Confidence': confidence,\n",
    "            'Lift': lift\n",
    "        })\n",
    "df = pd.DataFrame(data)"
   ]
  },
  {
   "cell_type": "markdown",
   "metadata": {},
   "source": [
    "# Apriori"
   ]
  },
  {
   "cell_type": "code",
   "execution_count": 103,
   "metadata": {},
   "outputs": [
    {
     "name": "stdout",
     "output_type": "stream",
     "text": [
      "              Base Items           Added Items   Support  Confidence      Lift\n",
      "0                [Onion]        [Cheese, Dill]  0.102102    0.253102  1.428523\n",
      "1         [Cheese, Dill]               [Onion]  0.102102    0.576271  1.428523\n",
      "2            [chocolate]       [Dill, Unicorn]  0.101101    0.239905  1.426578\n",
      "3        [Dill, Unicorn]           [chocolate]  0.101101    0.601190  1.426578\n",
      "4            [chocolate]          [Dill, Milk]  0.114114    0.270784  1.423753\n",
      "5           [Dill, Milk]           [chocolate]  0.114114    0.600000  1.423753\n",
      "6                 [Milk]     [Dill, chocolate]  0.114114    0.281481  1.413065\n",
      "7      [Dill, chocolate]                [Milk]  0.114114    0.572864  1.413065\n",
      "8                 [Dill]       [Cheese, Onion]  0.102102    0.256281  1.383920\n",
      "9        [Cheese, Onion]                [Dill]  0.102102    0.551351  1.383920\n",
      "10                [Dill]  [Unicorn, chocolate]  0.101101    0.253769  1.362984\n",
      "11  [Unicorn, chocolate]                [Dill]  0.101101    0.543011  1.362984\n",
      "12        [Kidney Beans]   [Cheese, Ice cream]  0.104104    0.254902  1.361749\n",
      "13   [Cheese, Ice cream]        [Kidney Beans]  0.104104    0.556150  1.361749\n",
      "14                [Dill]     [Milk, chocolate]  0.114114    0.286432  1.356141\n",
      "15     [Milk, chocolate]                [Dill]  0.114114    0.540284  1.356141\n"
     ]
    }
   ],
   "source": [
    "print(df.sort_values(by = 'Lift', ascending = False).reset_index(drop = True))"
   ]
  },
  {
   "cell_type": "markdown",
   "metadata": {},
   "source": [
    "# Eclat"
   ]
  },
  {
   "cell_type": "code",
   "execution_count": 104,
   "metadata": {},
   "outputs": [
    {
     "name": "stdout",
     "output_type": "stream",
     "text": [
      "              Base Items           Added Items   Support\n",
      "0                 [Dill]     [Milk, chocolate]  0.114114\n",
      "1                 [Milk]     [Dill, chocolate]  0.114114\n",
      "2           [Dill, Milk]           [chocolate]  0.114114\n",
      "3            [chocolate]          [Dill, Milk]  0.114114\n",
      "4      [Milk, chocolate]                [Dill]  0.114114\n",
      "5      [Dill, chocolate]                [Milk]  0.114114\n",
      "6         [Kidney Beans]   [Cheese, Ice cream]  0.104104\n",
      "7    [Cheese, Ice cream]        [Kidney Beans]  0.104104\n",
      "8                 [Dill]       [Cheese, Onion]  0.102102\n",
      "9                [Onion]        [Cheese, Dill]  0.102102\n",
      "10        [Cheese, Dill]               [Onion]  0.102102\n",
      "11       [Cheese, Onion]                [Dill]  0.102102\n",
      "12                [Dill]  [Unicorn, chocolate]  0.101101\n",
      "13           [chocolate]       [Dill, Unicorn]  0.101101\n",
      "14       [Dill, Unicorn]           [chocolate]  0.101101\n",
      "15  [Unicorn, chocolate]                [Dill]  0.101101\n"
     ]
    }
   ],
   "source": [
    "print(df.iloc[:,[0,1,2]].sort_values(by = 'Support', ascending = False).reset_index(drop = True))"
   ]
  }
 ],
 "metadata": {
  "colab": {
   "authorship_tag": "ABX9TyMojhScvfhNEf0PB0SFUBgo",
   "name": "Data Preprocessing Template.ipynb",
   "provenance": [],
   "toc_visible": true
  },
  "kernelspec": {
   "display_name": "Python 3 (ipykernel)",
   "language": "python",
   "name": "python3"
  },
  "language_info": {
   "codemirror_mode": {
    "name": "ipython",
    "version": 3
   },
   "file_extension": ".py",
   "mimetype": "text/x-python",
   "name": "python",
   "nbconvert_exporter": "python",
   "pygments_lexer": "ipython3",
   "version": "3.12.7"
  }
 },
 "nbformat": 4,
 "nbformat_minor": 4
}
